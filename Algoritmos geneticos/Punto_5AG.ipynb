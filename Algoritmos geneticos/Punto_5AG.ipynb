{
  "nbformat": 4,
  "nbformat_minor": 0,
  "metadata": {
    "colab": {
      "provenance": []
    },
    "kernelspec": {
      "name": "python3",
      "display_name": "Python 3"
    },
    "language_info": {
      "name": "python"
    }
  },
  "cells": [
    {
      "cell_type": "code",
      "execution_count": null,
      "metadata": {
        "id": "X7t3JEz5zJce"
      },
      "outputs": [],
      "source": [
        "import pygad\n",
        "import numpy as np\n",
        "import string\n",
        "import random\n",
        "\n",
        "def generar_poblacion(longitud, tamano):\n",
        "    \"\"\"Genera una población inicial de palabras aleatorias.\"\"\"\n",
        "    return [''.join(random.choices(string.ascii_lowercase, k=longitud)) for _ in range(tamano)]\n",
        "\n",
        "def aptitud(ga_instance, solution, solution_idx):\n",
        "    \"\"\"Calcula la aptitud basada en la similitud con la palabra objetivo.\"\"\"\n",
        "    global palabra_objetivo, indice_a_letra\n",
        "    solution_str = ''.join(indice_a_letra[i] for i in solution)  # Convertir índice a caracteres\n",
        "    coincidencias_exactas = sum(1 for a, b in zip(solution_str, palabra_objetivo) if a == b)\n",
        "    coincidencias_parciales = sum(1 for letra in solution_str if letra in palabra_objetivo) - coincidencias_exactas\n",
        "    return coincidencias_exactas * 2 + coincidencias_parciales\n",
        "\n",
        "def mutacion(offspring, ga_instance):\n",
        "    \"\"\"Realiza mutación aleatoria en los hijos.\"\"\"\n",
        "    for idx in range(len(offspring)):\n",
        "        if random.random() < 0.1:  # Tasa de mutación\n",
        "            mut_index = random.randint(0, len(offspring[idx]) - 1)\n",
        "            offspring[idx][mut_index] = random.randint(0, 25)  # Mutación a otro índice de letra\n",
        "    return offspring\n",
        "\n",
        "# Definir la palabra objetivo\n",
        "global palabra_objetivo, letra_a_indice, indice_a_letra\n",
        "palabra_objetivo = \"libro\"\n",
        "letras = list(string.ascii_lowercase)\n",
        "letra_a_indice = {letra: idx for idx, letra in enumerate(letras)}\n",
        "indice_a_letra = {idx: letra for idx, letra in enumerate(letras)}\n",
        "longitud_palabra = len(palabra_objetivo)\n",
        "\n",
        "ga = pygad.GA(\n",
        "    num_generations=5000,\n",
        "    num_parents_mating=10,\n",
        "    fitness_func=aptitud,\n",
        "    sol_per_pop=100,\n",
        "    num_genes=longitud_palabra,\n",
        "    gene_space=list(range(26)),  # Espacio de genes como índices numéricos\n",
        "    parent_selection_type=\"tournament\",\n",
        "    crossover_type=\"single_point\",\n",
        "    mutation_type=mutacion,\n",
        "    keep_parents=2\n",
        ")\n",
        "\n",
        "ga.run()\n",
        "\n",
        "# Obtener la mejor solución\n",
        "solution, solution_fitness, _ = ga.best_solution()\n",
        "solution_str = ''.join(indice_a_letra[i] for i in solution)  # Convertir índices a caracteres\n",
        "print(f\"¡Palabra encontrada!: {solution_str} con aptitud {solution_fitness}\")"
      ]
    }
  ]
}