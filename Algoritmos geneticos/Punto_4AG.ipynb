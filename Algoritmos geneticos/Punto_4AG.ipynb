{
  "nbformat": 4,
  "nbformat_minor": 0,
  "metadata": {
    "colab": {
      "provenance": []
    },
    "kernelspec": {
      "name": "python3",
      "display_name": "Python 3"
    },
    "language_info": {
      "name": "python"
    }
  },
  "cells": [
    {
      "cell_type": "code",
      "execution_count": null,
      "metadata": {
        "id": "X7t3JEz5zJce"
      },
      "outputs": [],
      "source": [
        "import random\n",
        "import string\n",
        "\n",
        "def generar_palabra(longitud=5):\n",
        "    \"\"\"Genera una palabra aleatoria de una longitud dada.\"\"\"\n",
        "    return ''.join(random.choices(string.ascii_lowercase, k=longitud))\n",
        "\n",
        "def generar_poblacion(tamano=200, longitud=5):\n",
        "    \"\"\"Genera una población inicial de palabras aleatorias.\"\"\"\n",
        "    return [generar_palabra(longitud) for _ in range(tamano)]\n",
        "\n",
        "def aptitud(palabra, objetivo):\n",
        "    \"\"\"Calcula la aptitud como la cantidad de letras correctas en la posición correcta y similares.\"\"\"\n",
        "    coincidencias_exactas = sum(1 for a, b in zip(palabra, objetivo) if a == b)\n",
        "    coincidencias_parciales = sum(1 for letra in palabra if letra in objetivo) - coincidencias_exactas\n",
        "    return coincidencias_exactas * 2 + coincidencias_parciales\n",
        "\n",
        "def seleccionar_padres(poblacion, objetivo):\n",
        "    \"\"\"Selecciona dos padres con base en la aptitud usando selección por ruleta.\"\"\"\n",
        "    poblacion.sort(key=lambda palabra: aptitud(palabra, objetivo), reverse=True)\n",
        "    return random.choices(poblacion[:50], k=2)\n",
        "\n",
        "def cruzar(padre1, padre2):\n",
        "    \"\"\"Realiza cruce de dos puntos para generar un hijo.\"\"\"\n",
        "    punto1, punto2 = sorted(random.sample(range(len(padre1)), 2))\n",
        "    hijo = padre1[:punto1] + padre2[punto1:punto2] + padre1[punto2:]\n",
        "    return hijo\n",
        "\n",
        "def mutar(palabra, tasa=0.2):\n",
        "    \"\"\"Realiza mutación aleatoria en la palabra con tasa adaptativa.\"\"\"\n",
        "    palabra_mutada = ''.join(\n",
        "        c if random.random() > tasa else random.choice(string.ascii_lowercase)\n",
        "        for c in palabra\n",
        "    )\n",
        "    return palabra_mutada\n",
        "\n",
        "def algoritmo_genetico(objetivo, generaciones=100000):\n",
        "    \"\"\"Ejecuta el algoritmo genético hasta encontrar la palabra objetivo o llegar al límite.\"\"\"\n",
        "    tamano_poblacion = 200\n",
        "    longitud_palabra = len(objetivo)\n",
        "    poblacion = generar_poblacion(tamano_poblacion, longitud_palabra)\n",
        "\n",
        "    for generacion in range(generaciones):\n",
        "        poblacion.sort(key=lambda palabra: aptitud(palabra, objetivo), reverse=True)\n",
        "\n",
        "        if poblacion[0] == objetivo:\n",
        "            print(f\"¡Palabra encontrada en la generación {generacion}: {poblacion[0]}\")\n",
        "            return poblacion[0]\n",
        "\n",
        "        nueva_poblacion = []\n",
        "        for _ in range(tamano_poblacion // 2):\n",
        "            padre1, padre2 = seleccionar_padres(poblacion, objetivo)\n",
        "            hijo1 = mutar(cruzar(padre1, padre2), tasa=max(0.01, 0.2 - generacion / generaciones))\n",
        "            hijo2 = mutar(cruzar(padre2, padre1), tasa=max(0.01, 0.2 - generacion / generaciones))\n",
        "            nueva_poblacion.extend([hijo1, hijo2])\n",
        "\n",
        "        poblacion = nueva_poblacion\n",
        "\n",
        "    print(\"No se encontró la palabra en el límite de generaciones.\")\n",
        "    return None\n",
        "\n",
        "# Prueba del algoritmo\n",
        "target_word = \"recomendacion\"\n",
        "algoritmo_genetico(target_word)"
      ]
    }
  ]
}